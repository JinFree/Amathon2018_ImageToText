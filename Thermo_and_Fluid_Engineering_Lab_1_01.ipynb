{
  "nbformat": 4,
  "nbformat_minor": 0,
  "metadata": {
    "colab": {
      "name": "Thermo and Fluid Engineering Lab. 1_01.ipynb",
      "version": "0.3.2",
      "provenance": [],
      "include_colab_link": true
    },
    "kernelspec": {
      "name": "python3",
      "display_name": "Python 3"
    }
  },
  "cells": [
    {
      "cell_type": "markdown",
      "metadata": {
        "id": "view-in-github",
        "colab_type": "text"
      },
      "source": [
        "<a href=\"https://colab.research.google.com/github/JinFree/Amathon2018_ImageToText/blob/master/Thermo_and_Fluid_Engineering_Lab_1_01.ipynb\" target=\"_parent\"><img src=\"https://colab.research.google.com/assets/colab-badge.svg\" alt=\"Open In Colab\"/></a>"
      ]
    },
    {
      "cell_type": "markdown",
      "metadata": {
        "id": "fQieq6mtz4sb",
        "colab_type": "text"
      },
      "source": [
        "# 이상환교수님 열유체공학실험\n",
        "##수업 관련 문의\n",
        "* 연구실: 공업센터 본관 116호 병렬연산연구실\n",
        "* 왕진영: ytrqwe12@gmail.com\n",
        "* 김민오: domeano@naver.com\n",
        "\n",
        "##성적\n",
        "* 출석: 20%\n",
        "* 과제: 80%\n",
        "\n",
        "##실습환경\n",
        "* Google Colab\n",
        "* Github\n",
        "* Python3"
      ]
    },
    {
      "cell_type": "code",
      "metadata": {
        "id": "lHT99jNcy4ID",
        "colab_type": "code",
        "colab": {}
      },
      "source": [
        ""
      ],
      "execution_count": 0,
      "outputs": []
    }
  ]
}